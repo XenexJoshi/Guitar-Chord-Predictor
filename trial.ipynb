{
 "cells": [
  {
   "cell_type": "code",
   "execution_count": 11,
   "metadata": {},
   "outputs": [],
   "source": [
    "import librosa\n",
    "import numpy as np"
   ]
  },
  {
   "cell_type": "code",
   "execution_count": 21,
   "metadata": {},
   "outputs": [
    {
     "data": {
      "text/plain": [
       "array([0.44371375, 0.3929616 , 0.19106762, 0.09086449, 0.18544601,\n",
       "       0.31623957, 0.47278377, 0.71745294, 0.9877162 , 1.        ,\n",
       "       0.8350169 , 0.62823415], dtype=float32)"
      ]
     },
     "execution_count": 21,
     "metadata": {},
     "output_type": "execute_result"
    }
   ],
   "source": [
    "source, sr = librosa.load('jim2012Chords/Guitar_Only/a/a1.wav')\n",
    "ch1 = librosa.feature.chroma_stft(y = source, sr = sr, hop_length = 512)\n",
    "ch1 = np.pad(ch1, ((0, 0), (0, 32)), mode='constant', constant_values=0)\n",
    "ch1 = ch1.T\n",
    "ch1[0]"
   ]
  },
  {
   "cell_type": "code",
   "execution_count": 17,
   "metadata": {},
   "outputs": [
    {
     "data": {
      "text/plain": [
       "array([0.14179075, 0.0749267 , 0.1822373 , 0.35464373, 0.4075614 ,\n",
       "       0.06350983, 0.06096266, 0.1189134 , 0.12341449, 0.18846   ,\n",
       "       0.1887642 , 0.07488246, 0.05430475, 0.07793356, 0.10135546,\n",
       "       0.10876943, 0.1394792 , 0.17562082, 0.27377856, 0.32543808,\n",
       "       0.5276804 , 0.42832476, 0.46462083, 0.38128814, 0.39319798,\n",
       "       0.341475  , 0.3597843 , 0.33055496, 0.33013555, 0.32328752,\n",
       "       0.31944206, 0.32660636, 0.31720734, 0.3413945 , 0.30791578,\n",
       "       0.31595054, 0.2673298 , 0.2904298 , 0.27173442, 0.36208272,\n",
       "       0.44952264, 0.43026686, 0.45114496, 0.46159834, 0.41375062,\n",
       "       0.3464787 , 0.3082174 , 0.29490685, 0.3000983 , 0.2751785 ,\n",
       "       0.2626832 , 0.22481745, 0.21335311, 0.18209037, 0.17691578,\n",
       "       0.15550934, 0.16047359, 0.14747074, 0.15836804, 0.16316707,\n",
       "       0.20039567, 0.24230987, 0.3141235 , 0.39544088, 0.36913463,\n",
       "       0.35574654, 0.33162737, 0.32932502, 0.32700622, 0.33151987,\n",
       "       0.2414051 , 0.2354764 , 0.27337816, 0.2611088 , 0.25308815,\n",
       "       0.25911087, 0.352932  , 0.74944437, 0.43524736, 0.33521572,\n",
       "       0.30253822, 0.4612116 ], dtype=float32)"
      ]
     },
     "execution_count": 17,
     "metadata": {},
     "output_type": "execute_result"
    }
   ],
   "source": [
    "source, sr = librosa.load('jim2012Chords/Guitar_Only/g/g34.wav')\n",
    "ch2 = librosa.feature.chroma_stft(y = source, sr = sr, hop_length = 512)\n",
    "ch2[0]"
   ]
  }
 ],
 "metadata": {
  "kernelspec": {
   "display_name": "Python 3",
   "language": "python",
   "name": "python3"
  },
  "language_info": {
   "codemirror_mode": {
    "name": "ipython",
    "version": 3
   },
   "file_extension": ".py",
   "mimetype": "text/x-python",
   "name": "python",
   "nbconvert_exporter": "python",
   "pygments_lexer": "ipython3",
   "version": "3.9.6"
  }
 },
 "nbformat": 4,
 "nbformat_minor": 2
}
