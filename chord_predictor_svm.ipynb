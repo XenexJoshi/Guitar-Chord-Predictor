{
 "cells": [
  {
   "cell_type": "code",
   "execution_count": 25,
   "metadata": {},
   "outputs": [],
   "source": [
    "import numpy as np\n",
    "import json"
   ]
  },
  {
   "cell_type": "code",
   "execution_count": 26,
   "metadata": {},
   "outputs": [
    {
     "name": "stdout",
     "output_type": "stream",
     "text": [
      "(1996, 290, 12)\n",
      "(1996,)\n"
     ]
    }
   ],
   "source": [
    "DATA_PATH = 'data.json'\n",
    "\n",
    "with open(DATA_PATH, \"r\") as fp:\n",
    "    data = json.load(fp)\n",
    "\n",
    "chroma = data[\"chroma_vector\"]\n",
    "labels = data[\"labels\"]\n",
    "\n",
    "max_length = max(len(arr) for arr in chroma)\n",
    "\n",
    "chroma = [\n",
    "    np.pad(\n",
    "        arr,\n",
    "        pad_width=((0, max_length - len(arr)), (0, 0)),  \n",
    "        mode='constant',\n",
    "        constant_values=0\n",
    "    )\n",
    "    for arr in chroma\n",
    "]\n",
    "\n",
    "chroma = np.array(chroma)\n",
    "print(chroma.shape)\n",
    "\n",
    "labels = np.array(labels)\n",
    "print(labels.shape)"
   ]
  },
  {
   "cell_type": "code",
   "execution_count": 27,
   "metadata": {},
   "outputs": [
    {
     "name": "stdout",
     "output_type": "stream",
     "text": [
      "(1996, 3480)\n"
     ]
    }
   ],
   "source": [
    "chroma = chroma.reshape(chroma.shape[0], -1)\n",
    "print(chroma.shape)"
   ]
  },
  {
   "cell_type": "code",
   "execution_count": 28,
   "metadata": {},
   "outputs": [],
   "source": [
    "from sklearn.preprocessing import StandardScaler\n",
    "\n",
    "scaler = StandardScaler()\n",
    "chroma = scaler.fit_transform(chroma)"
   ]
  },
  {
   "cell_type": "code",
   "execution_count": 29,
   "metadata": {},
   "outputs": [],
   "source": [
    "from sklearn.model_selection import train_test_split\n",
    "\n",
    "X_train, X_test, y_train, y_test = train_test_split(chroma, labels, test_size = 0.30, random_state = 42)"
   ]
  },
  {
   "cell_type": "code",
   "execution_count": 30,
   "metadata": {},
   "outputs": [
    {
     "name": "stdout",
     "output_type": "stream",
     "text": [
      "Accuracy: 0.9348914858096828\n"
     ]
    }
   ],
   "source": [
    "from sklearn.svm import SVC\n",
    "from sklearn.metrics import accuracy_score\n",
    "\n",
    "model = SVC()\n",
    "model.fit(X_train, y_train)\n",
    "\n",
    "# Evaluate the model\n",
    "y_pred = model.predict(X_test)\n",
    "print(\"Accuracy:\", accuracy_score(y_test, y_pred))"
   ]
  },
  {
   "cell_type": "code",
   "execution_count": 31,
   "metadata": {},
   "outputs": [
    {
     "name": "stdout",
     "output_type": "stream",
     "text": [
      "Fitting 3 folds for each of 24 candidates, totalling 72 fits\n",
      "[CV] END ..................C=0.01, gamma=0.01, kernel=linear; total time=   0.4s\n",
      "[CV] END ..................C=0.01, gamma=0.01, kernel=linear; total time=   0.5s\n",
      "[CV] END ..................C=0.01, gamma=0.01, kernel=linear; total time=   0.5s\n",
      "[CV] END .....................C=0.01, gamma=0.01, kernel=rbf; total time=   1.4s\n",
      "[CV] END .....................C=0.01, gamma=0.01, kernel=rbf; total time=   1.5s\n",
      "[CV] END .....................C=0.01, gamma=0.01, kernel=rbf; total time=   1.4s\n",
      "[CV] END ...................C=0.01, gamma=0.1, kernel=linear; total time=   0.5s\n",
      "[CV] END ...................C=0.01, gamma=0.1, kernel=linear; total time=   0.4s\n",
      "[CV] END ...................C=0.01, gamma=0.1, kernel=linear; total time=   0.4s\n",
      "[CV] END ......................C=0.01, gamma=0.1, kernel=rbf; total time=   1.5s\n",
      "[CV] END ......................C=0.01, gamma=0.1, kernel=rbf; total time=   1.5s\n",
      "[CV] END ......................C=0.01, gamma=0.1, kernel=rbf; total time=   1.5s\n",
      "[CV] END .....................C=0.01, gamma=1, kernel=linear; total time=   0.6s\n",
      "[CV] END .....................C=0.01, gamma=1, kernel=linear; total time=   0.4s\n",
      "[CV] END .....................C=0.01, gamma=1, kernel=linear; total time=   0.4s\n",
      "[CV] END ........................C=0.01, gamma=1, kernel=rbf; total time=   1.4s\n",
      "[CV] END ........................C=0.01, gamma=1, kernel=rbf; total time=   1.4s\n",
      "[CV] END ........................C=0.01, gamma=1, kernel=rbf; total time=   1.4s\n",
      "[CV] END ...................C=0.1, gamma=0.01, kernel=linear; total time=   0.5s\n",
      "[CV] END ...................C=0.1, gamma=0.01, kernel=linear; total time=   0.4s\n",
      "[CV] END ...................C=0.1, gamma=0.01, kernel=linear; total time=   0.4s\n",
      "[CV] END ......................C=0.1, gamma=0.01, kernel=rbf; total time=   1.4s\n",
      "[CV] END ......................C=0.1, gamma=0.01, kernel=rbf; total time=   1.5s\n",
      "[CV] END ......................C=0.1, gamma=0.01, kernel=rbf; total time=   1.6s\n",
      "[CV] END ....................C=0.1, gamma=0.1, kernel=linear; total time=   0.5s\n",
      "[CV] END ....................C=0.1, gamma=0.1, kernel=linear; total time=   0.4s\n",
      "[CV] END ....................C=0.1, gamma=0.1, kernel=linear; total time=   0.5s\n",
      "[CV] END .......................C=0.1, gamma=0.1, kernel=rbf; total time=   1.4s\n",
      "[CV] END .......................C=0.1, gamma=0.1, kernel=rbf; total time=   1.4s\n",
      "[CV] END .......................C=0.1, gamma=0.1, kernel=rbf; total time=   1.4s\n",
      "[CV] END ......................C=0.1, gamma=1, kernel=linear; total time=   0.5s\n",
      "[CV] END ......................C=0.1, gamma=1, kernel=linear; total time=   0.5s\n",
      "[CV] END ......................C=0.1, gamma=1, kernel=linear; total time=   0.5s\n",
      "[CV] END .........................C=0.1, gamma=1, kernel=rbf; total time=   1.5s\n",
      "[CV] END .........................C=0.1, gamma=1, kernel=rbf; total time=   1.5s\n",
      "[CV] END .........................C=0.1, gamma=1, kernel=rbf; total time=   1.6s\n",
      "[CV] END .....................C=1, gamma=0.01, kernel=linear; total time=   0.5s\n",
      "[CV] END .....................C=1, gamma=0.01, kernel=linear; total time=   0.4s\n",
      "[CV] END .....................C=1, gamma=0.01, kernel=linear; total time=   0.4s\n",
      "[CV] END ........................C=1, gamma=0.01, kernel=rbf; total time=   1.4s\n",
      "[CV] END ........................C=1, gamma=0.01, kernel=rbf; total time=   1.6s\n",
      "[CV] END ........................C=1, gamma=0.01, kernel=rbf; total time=   1.5s\n",
      "[CV] END ......................C=1, gamma=0.1, kernel=linear; total time=   0.4s\n",
      "[CV] END ......................C=1, gamma=0.1, kernel=linear; total time=   0.4s\n",
      "[CV] END ......................C=1, gamma=0.1, kernel=linear; total time=   0.5s\n",
      "[CV] END .........................C=1, gamma=0.1, kernel=rbf; total time=   1.6s\n",
      "[CV] END .........................C=1, gamma=0.1, kernel=rbf; total time=   1.4s\n",
      "[CV] END .........................C=1, gamma=0.1, kernel=rbf; total time=   1.4s\n",
      "[CV] END ........................C=1, gamma=1, kernel=linear; total time=   0.4s\n",
      "[CV] END ........................C=1, gamma=1, kernel=linear; total time=   0.4s\n",
      "[CV] END ........................C=1, gamma=1, kernel=linear; total time=   0.4s\n",
      "[CV] END ...........................C=1, gamma=1, kernel=rbf; total time=   1.4s\n",
      "[CV] END ...........................C=1, gamma=1, kernel=rbf; total time=   1.5s\n",
      "[CV] END ...........................C=1, gamma=1, kernel=rbf; total time=   1.4s\n",
      "[CV] END ....................C=10, gamma=0.01, kernel=linear; total time=   0.4s\n",
      "[CV] END ....................C=10, gamma=0.01, kernel=linear; total time=   0.5s\n",
      "[CV] END ....................C=10, gamma=0.01, kernel=linear; total time=   0.5s\n",
      "[CV] END .......................C=10, gamma=0.01, kernel=rbf; total time=   1.5s\n",
      "[CV] END .......................C=10, gamma=0.01, kernel=rbf; total time=   1.5s\n",
      "[CV] END .......................C=10, gamma=0.01, kernel=rbf; total time=   1.5s\n",
      "[CV] END .....................C=10, gamma=0.1, kernel=linear; total time=   0.4s\n",
      "[CV] END .....................C=10, gamma=0.1, kernel=linear; total time=   0.4s\n",
      "[CV] END .....................C=10, gamma=0.1, kernel=linear; total time=   0.4s\n",
      "[CV] END ........................C=10, gamma=0.1, kernel=rbf; total time=   1.5s\n",
      "[CV] END ........................C=10, gamma=0.1, kernel=rbf; total time=   1.8s\n",
      "[CV] END ........................C=10, gamma=0.1, kernel=rbf; total time=   1.6s\n",
      "[CV] END .......................C=10, gamma=1, kernel=linear; total time=   0.5s\n",
      "[CV] END .......................C=10, gamma=1, kernel=linear; total time=   0.4s\n",
      "[CV] END .......................C=10, gamma=1, kernel=linear; total time=   0.4s\n",
      "[CV] END ..........................C=10, gamma=1, kernel=rbf; total time=   1.4s\n",
      "[CV] END ..........................C=10, gamma=1, kernel=rbf; total time=   1.4s\n",
      "[CV] END ..........................C=10, gamma=1, kernel=rbf; total time=   1.4s\n",
      "The accuracy of the SVM(with 3-CV) classifier is: 94.324%.\n"
     ]
    }
   ],
   "source": [
    "from sklearn.model_selection import GridSearchCV\n",
    "\n",
    "# Selecting an array of hyperparameters for hyperparameter tuning using GridSearchCV() function\n",
    "parameters = {\n",
    "  'C' : [0.01, 0.1, 1, 10],\n",
    "  'kernel' : ['linear', 'rbf'],\n",
    "  'gamma' : [0.01, 0.1, 1],\n",
    "}\n",
    "\n",
    "# Setting up the hyperparameter tunings\n",
    "svm_cv_model = GridSearchCV( estimator = SVC(),\n",
    "                         param_grid = parameters,\n",
    "                         cv = 3,\n",
    "                         verbose = 2\n",
    ")\n",
    "\n",
    "# Running GridSearchCV() on training set\n",
    "svm_cv_model.fit(X_train, y_train)\n",
    "\n",
    "# Getting prediction on testing set\n",
    "y_pred = svm_cv_model.predict(X_test)\n",
    "accuracy = accuracy_score(y_test, y_pred)\n",
    "print(\"The accuracy of the SVM(with 3-CV) classifier is: \" + str(round(100 * accuracy, 3)) + \"%.\")"
   ]
  }
 ],
 "metadata": {
  "kernelspec": {
   "display_name": ".venv",
   "language": "python",
   "name": "python3"
  },
  "language_info": {
   "codemirror_mode": {
    "name": "ipython",
    "version": 3
   },
   "file_extension": ".py",
   "mimetype": "text/x-python",
   "name": "python",
   "nbconvert_exporter": "python",
   "pygments_lexer": "ipython3",
   "version": "3.9.6"
  }
 },
 "nbformat": 4,
 "nbformat_minor": 2
}
