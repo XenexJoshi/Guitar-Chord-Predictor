{
 "cells": [
  {
   "cell_type": "code",
   "execution_count": 1,
   "metadata": {},
   "outputs": [],
   "source": [
    "import numpy as np\n",
    "import json"
   ]
  },
  {
   "cell_type": "code",
   "execution_count": 2,
   "metadata": {},
   "outputs": [
    {
     "name": "stdout",
     "output_type": "stream",
     "text": [
      "(1996, 290, 12)\n",
      "(1996,)\n"
     ]
    }
   ],
   "source": [
    "DATA_PATH = 'data.json'\n",
    "\n",
    "with open(DATA_PATH, \"r\") as fp:\n",
    "    data = json.load(fp)\n",
    "\n",
    "# Loading data from extracted json file\n",
    "chroma = data[\"chroma_vector\"]\n",
    "labels = data[\"labels\"]\n",
    "\n",
    "# Padding data to reshape data into identical shapes\n",
    "max_length = max(len(arr) for arr in chroma)\n",
    "chroma = [\n",
    "    np.pad(\n",
    "        arr,\n",
    "        pad_width=((0, max_length - len(arr)), (0, 0)),  \n",
    "        mode='constant',\n",
    "        constant_values=0\n",
    "    )\n",
    "    for arr in chroma\n",
    "]\n",
    "\n",
    "chroma = np.array(chroma)\n",
    "labels = np.array(labels)\n",
    "\n",
    "print(chroma.shape)\n",
    "print(labels.shape)"
   ]
  },
  {
   "cell_type": "code",
   "execution_count": 3,
   "metadata": {},
   "outputs": [
    {
     "name": "stdout",
     "output_type": "stream",
     "text": [
      "(1996, 3480)\n"
     ]
    }
   ],
   "source": [
    "# Reshaping 3D data into 2D to pass onto an SVM model\n",
    "chroma = chroma.reshape(chroma.shape[0], -1)\n",
    "print(chroma.shape)"
   ]
  },
  {
   "cell_type": "code",
   "execution_count": 4,
   "metadata": {},
   "outputs": [],
   "source": [
    "from sklearn.model_selection import train_test_split\n",
    "\n",
    "# Splitting data into training and testing set\n",
    "X_train, X_test, y_train, y_test = train_test_split(chroma, labels, test_size = 0.30, random_state = 42)"
   ]
  },
  {
   "cell_type": "code",
   "execution_count": 5,
   "metadata": {},
   "outputs": [],
   "source": [
    "from sklearn import tree\n",
    "\n",
    "det_tree = tree.DecisionTreeClassifier(max_depth = 12, min_samples_split = 8, min_samples_leaf = 5, random_state = 42)\n",
    "det_tree = det_tree.fit(X_train, y_train)"
   ]
  },
  {
   "cell_type": "code",
   "execution_count": 6,
   "metadata": {},
   "outputs": [
    {
     "ename": "NameError",
     "evalue": "name 'accuracy_score' is not defined",
     "output_type": "error",
     "traceback": [
      "\u001b[0;31m---------------------------------------------------------------------------\u001b[0m",
      "\u001b[0;31mNameError\u001b[0m                                 Traceback (most recent call last)",
      "Cell \u001b[0;32mIn[6], line 2\u001b[0m\n\u001b[1;32m      1\u001b[0m preds \u001b[38;5;241m=\u001b[39m det_tree\u001b[38;5;241m.\u001b[39mpredict(X_test)\n\u001b[0;32m----> 2\u001b[0m accuracy \u001b[38;5;241m=\u001b[39m \u001b[43maccuracy_score\u001b[49m(preds, y_test)\n\u001b[1;32m      3\u001b[0m \u001b[38;5;28mprint\u001b[39m(\u001b[38;5;124m\"\u001b[39m\u001b[38;5;124mThe accuracy of the Decision Tree model is \u001b[39m\u001b[38;5;124m\"\u001b[39m \u001b[38;5;241m+\u001b[39m \u001b[38;5;28mstr\u001b[39m(\u001b[38;5;28mround\u001b[39m(\u001b[38;5;241m100\u001b[39m \u001b[38;5;241m*\u001b[39m accuracy, \u001b[38;5;241m3\u001b[39m)) \u001b[38;5;241m+\u001b[39m \u001b[38;5;124m\"\u001b[39m\u001b[38;5;124m%\u001b[39m\u001b[38;5;124m.\u001b[39m\u001b[38;5;124m\"\u001b[39m)\n",
      "\u001b[0;31mNameError\u001b[0m: name 'accuracy_score' is not defined"
     ]
    }
   ],
   "source": [
    "from sklearn.metrics import accuracy_score\n",
    "preds = det_tree.predict(X_test)\n",
    "accuracy = accuracy_score(preds, y_test)\n",
    "print(\"The accuracy of the Decision Tree model is \" + str(round(100 * accuracy, 3)) + \"%.\")"
   ]
  },
  {
   "cell_type": "code",
   "execution_count": null,
   "metadata": {},
   "outputs": [],
   "source": [
    "from sklearn.ensemble import RandomForestClassifier\n",
    "\n",
    "rand_forest = RandomForestClassifier(n_estimators = 2000, max_depth = 12)\n",
    "rand_forest.fit(X_train, y_train)\n",
    "\n",
    "preds = rand_forest.predict(X_test)\n",
    "accuracy = accuracy_score(preds, y_test)\n",
    "print(\"The accuracy of the Random Forest model is \" + str(round(100 * accuracy, 3)) + \"%.\")"
   ]
  }
 ],
 "metadata": {
  "kernelspec": {
   "display_name": ".venv",
   "language": "python",
   "name": "python3"
  },
  "language_info": {
   "codemirror_mode": {
    "name": "ipython",
    "version": 3
   },
   "file_extension": ".py",
   "mimetype": "text/x-python",
   "name": "python",
   "nbconvert_exporter": "python",
   "pygments_lexer": "ipython3",
   "version": "3.9.6"
  }
 },
 "nbformat": 4,
 "nbformat_minor": 2
}
